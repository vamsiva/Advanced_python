{
 "cells": [
  {
   "cell_type": "markdown",
   "id": "4e40fabd-d69a-4147-be66-10c2799a8cc4",
   "metadata": {},
   "source": [
    "# Q1. What is the purpose of Python's OOP?"
   ]
  },
  {
   "cell_type": "markdown",
   "id": "e2f92532-937c-496a-97a3-6438eebed928",
   "metadata": {},
   "source": [
    "## Ans: \n",
    "  Object-oriented programming is a programming paradigm that provides a means of structuring programs so that properties and behaviors are bundled into individual objects\n",
    "\n",
    "In Python, object-oriented Programming (OOPs) uses objects and classes in programming.\n",
    "\n",
    "It aims to implement real-world entities like inheritance, polymorphisms, encapsulation, etc. in the programming.\n",
    "\n",
    "The main concept of OOPs is to bind the data and the functions that work on that together as a single unit so that no other part of the code can access this data.\n",
    "\n",
    "It comes up with the following advantages:\n",
    "\n",
    "It helps to divide our over all program into different small segments and thus making it solving easy with the use of objects\n",
    "\n",
    "Helps in easy maintenance and modification of existing program\n",
    "\n",
    "Multiple instances of an object can be made."
   ]
  },
  {
   "cell_type": "markdown",
   "id": "9992c63d-2bb5-4fae-ad01-f8a48ecb6226",
   "metadata": {},
   "source": [
    "# Q2. Where does an inheritance search look for an attribute?"
   ]
  },
  {
   "cell_type": "markdown",
   "id": "ce81359e-fe8a-400f-b40a-644f2bd8757f",
   "metadata": {},
   "source": [
    "## Ans\n",
    "An inheritance search looks for an attribute first in the instance object, then in the class the instance was created from, then in all higher superclasses, progressing from left to right (by default). The search stops at the first place the attribute is found.\n",
    "\n"
   ]
  },
  {
   "cell_type": "markdown",
   "id": "94c853e4-5216-464d-81de-cdd46555c0c9",
   "metadata": {},
   "source": [
    "# Q3. How do you distinguish between a class object and an instance object?"
   ]
  },
  {
   "cell_type": "markdown",
   "id": "5f71e30d-7f7d-4bc4-961a-f980a90952f6",
   "metadata": {},
   "source": [
    "## Ans: \n",
    "The differences between a class object and an instance object are:\n",
    "\n",
    "Class is a template for creating objects whereas object is an instance of class\n",
    "Seperate memory is allocated for each object whenever an object is created. but for a class this doesnot happens.\n",
    "A Class is created once. Many objects are created using a class.\n",
    "As Classes have no allocated memory. they can't be manipulated. but objects can be manipulated."
   ]
  },
  {
   "cell_type": "markdown",
   "id": "27763426-ad64-4475-b09e-a4e63c02429a",
   "metadata": {},
   "source": [
    "# Q4. What makes the first argument in a class’s method function special?"
   ]
  },
  {
   "cell_type": "markdown",
   "id": "5f8b39c8-4e17-4df4-a45f-66133e382f6a",
   "metadata": {},
   "source": [
    "## Ans:\n",
    "It always receives the instance object that is the implied subject of the method call. It’s usually called ‘self’ by convention.\n"
   ]
  },
  {
   "cell_type": "markdown",
   "id": "f0e662b8-3163-4d2a-a888-560395816fa5",
   "metadata": {},
   "source": [
    "# Q5. What is the purpose of the __init__ method?"
   ]
  },
  {
   "cell_type": "markdown",
   "id": "268f17c1-56d0-48e3-8630-e574ee7b9757",
   "metadata": {},
   "source": [
    "## Ans:\n",
    "__init__ is a reseved method in python classes. It serves the role of a constructor in object oriented terminology. This method is called when an object is created from a class and it allows the class to initialize the attributes of the class"
   ]
  },
  {
   "cell_type": "markdown",
   "id": "fc3e4d73-5780-45d6-a8f4-7207ed65890a",
   "metadata": {},
   "source": [
    "# Q6. What is the process for creating a class instance?"
   ]
  },
  {
   "cell_type": "markdown",
   "id": "2a5d1170-b7b3-4af5-8b53-d51c10b9a8e1",
   "metadata": {},
   "source": [
    "## Ans:\n",
    "To create a class instance, we need to call the class by its name and pass the arguments to the class, which its init method accepts.\n",
    "\n",
    "Example: my_name = my_class(\"Mano\",\"vishnu\") Here my_name is an instance of class my_class with attributes \"Mano\" and \"Vishnu\"."
   ]
  },
  {
   "cell_type": "markdown",
   "id": "7b299d70-ca00-47d5-911d-9da173075f93",
   "metadata": {},
   "source": [
    "# Q7. What is the process for creating a class?"
   ]
  },
  {
   "cell_type": "markdown",
   "id": "7f869e38-d117-46bb-85c8-4738ccf76dbb",
   "metadata": {},
   "source": [
    "## Ans:\n",
    "\n",
    "class keyword is used to created a class in python. The syntax to create a class in python is class <classname>:\n",
    "\n",
    "Example: class Car: ➞ this creates a class called Car"
   ]
  },
  {
   "cell_type": "markdown",
   "id": "7913798c-a081-4bbe-bc1d-9e5ceb11884e",
   "metadata": {},
   "source": [
    "# Q8. How would you define the superclasses of a class?"
   ]
  },
  {
   "cell_type": "markdown",
   "id": "bef88b59-cdc1-4d3f-b43f-f89e62942d5b",
   "metadata": {},
   "source": [
    "## Ans:\n",
    "Superclass/Parent class is given as a arugment to the child class\n",
    "\n",
    "Example: class Employee(Person): Here child class Employee inherits attributes and methofs from Superclass/Parent Person"
   ]
  },
  {
   "cell_type": "code",
   "execution_count": null,
   "id": "9f634181-625b-4ea0-88a1-eb0af5461f98",
   "metadata": {},
   "outputs": [],
   "source": []
  }
 ],
 "metadata": {
  "kernelspec": {
   "display_name": "Python 3 (ipykernel)",
   "language": "python",
   "name": "python3"
  },
  "language_info": {
   "codemirror_mode": {
    "name": "ipython",
    "version": 3
   },
   "file_extension": ".py",
   "mimetype": "text/x-python",
   "name": "python",
   "nbconvert_exporter": "python",
   "pygments_lexer": "ipython3",
   "version": "3.10.6"
  }
 },
 "nbformat": 4,
 "nbformat_minor": 5
}
